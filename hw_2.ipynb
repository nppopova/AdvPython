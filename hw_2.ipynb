{
 "cells": [
  {
   "cell_type": "markdown",
   "metadata": {},
   "source": [
    "### Сторонние библиотеки использовать нельзя"
   ]
  },
  {
   "cell_type": "markdown",
   "metadata": {},
   "source": [
    "### Задача 0 [Библиотека] (0.15 балла)  \n",
    "\n",
    "**Условие:** \n",
    "\n",
    "\n",
    "В библиотеке хранятся книги и журналы. У каждой сущности есть общие характеристики, такие как: название, автор, жанр, число страниц, формат страниц, индекс редкости (от 1 до 10) и текст. Также у разных сущностей могут быть свои атрибуты. Хочется все редкие издания (индекс 9 или 10) дополнительно сохранять в некое хранилище (пусть json-файл), а также хочется понимать какую площадь занимает издание, если разложить все его страницы на полу.     \n",
    "\n",
    "\n",
    "**Комментарий:**\n",
    "\n",
    "Это задача с семинара на организацию иерархии классов. Идея в том, что нужно разделять сущности в зависимости от их применения. Например, есть книга как некий абстрактный объект, а есть библиотечная книга, у которой есть свои особенности. Также для сохранения книг в json нужно использвать классы-примеси.\n",
    "\n",
    "\n",
    "Иерархия классов:"
   ]
  },
  {
   "cell_type": "code",
   "execution_count": 249,
   "metadata": {},
   "outputs": [],
   "source": [
    "PAGES_FORMAT = {\n",
    "    'A1': (2048, 1024),\n",
    "    'A2': (1024, 512),\n",
    "    'A3': (512, 256),\n",
    "    'A4': (297, 210),\n",
    "    'A5': (210, 148),   \n",
    "    }\n",
    "\n",
    "import json\n",
    "class ReadableEntity:\n",
    "    \n",
    "    def __init__(self, name, author, genre, pages_num, page_format, rarity, text):\n",
    "        \n",
    "        self.name = name   \n",
    "        self.author = author\n",
    "        self.genre = genre\n",
    "        self.pages_num = pages_num\n",
    "        self.page_format = page_format\n",
    "        self.rarity = rarity\n",
    "        self.text = text\n",
    "        \n",
    "    @property\n",
    "    def page_format(self):\n",
    "        return self._page_format\n",
    "    \n",
    "    @page_format.setter\n",
    "    def page_format(self, form):\n",
    "        if form.upper() not in PAGES_FORMAT:\n",
    "            raise ValueError(\"Unrecognised page format\")\n",
    "        else:\n",
    "            self._page_format = form\n",
    "    \n",
    "    @property\n",
    "    def pages_num(self):\n",
    "        return self._pages_num\n",
    "    \n",
    "    @pages_num.setter\n",
    "    def pages_num(self, num):\n",
    "        if not isinstance(num, int):\n",
    "            raise ValueError(\"Number of pages should be integer\")\n",
    "        if num < 0:\n",
    "            return ValueError(\"Number of pages should be greater than 0\")\n",
    "        else:\n",
    "            self._pages_num = num\n",
    "            \n",
    "    @property\n",
    "    def rarity(self):\n",
    "        return self._rarity\n",
    "    \n",
    "    @rarity.setter\n",
    "    def rarity(self, value):\n",
    "        if not isinstance(value, int):\n",
    "            raise ValueError(\"Rarity index should be integer\")\n",
    "        if value not in list(range(1, 11)):\n",
    "            return ValueError(\"Rarity index should be between 1 and 10\")\n",
    "        else:\n",
    "            self._rarity = value\n",
    "    \n",
    "    @staticmethod\n",
    "    def _calc_area(heigth, width):\n",
    "        return heigth * width\n",
    "    \n",
    "    @property\n",
    "    def pages_square(self):\n",
    "        heigth, width = PAGES_FORMAT[self.page_format.upper()]\n",
    "        return self.pages_num * self._calc_area(heigth, width)\n",
    "    \n",
    "class Journal(ReadableEntity):\n",
    "    def __init__(self, journal_id, publisher, issue, *kwargs):\n",
    "        self.journal_id = journal_id # some library identifier\n",
    "        self.publisher = publisher\n",
    "        self.issue = issue\n",
    "        super(ReadableEntity, self).__init__(*kwargs)\n",
    "        \n",
    "    @property    \n",
    "    def journal_id(self):\n",
    "        return self._journal_id\n",
    "    \n",
    "    @journal_id.setter\n",
    "    def journal_id(self, value): \n",
    "        if not isinstance(value, int):\n",
    "            raise ValueError(\"Journal id should be integer\")\n",
    "        else:\n",
    "            self._journal_id = value\n",
    "        \n",
    "    @property\n",
    "    def issue(self):\n",
    "        return self._issue\n",
    "    \n",
    "    @issue.setter\n",
    "    def issue(self, value):\n",
    "        if not isinstance(value, int):\n",
    "            raise ValueError(\"Issue number should be integer\")\n",
    "        else:\n",
    "            self._issue = issue\n",
    "\n",
    "\n",
    "class Book(ReadableEntity):\n",
    "    def __init__(self, book_id, shelf_no, library_only, *kwargs):\n",
    "        self.book_id = book_id # some library identifier\n",
    "        self.shelf_no = shelf_no \n",
    "        self.library_only = library_only # can be taken home or not\n",
    "        super().__init__(*kwargs) \n",
    "        \n",
    "    @property       \n",
    "    def book_id(self):\n",
    "        return self._book_id\n",
    "    \n",
    "    @book_id.setter\n",
    "    def book_id(self, value):\n",
    "        if not isinstance(value, int):\n",
    "            raise ValueError(\"Book id should be integer\")\n",
    "        else:\n",
    "            self._book_id = value\n",
    "            \n",
    "    @property\n",
    "    def shelf_no(self):\n",
    "        return self._shelf_no\n",
    "    \n",
    "    @shelf_no.setter\n",
    "    def shelf_no(self, value):\n",
    "        if not isinstance(value, int):\n",
    "            raise ValueError(\"Shelf number should be integer\")\n",
    "        else:\n",
    "            self._shelf_no = value\n",
    "    \n",
    "    @property\n",
    "    def library_only(self):\n",
    "        return self._library_only\n",
    "    \n",
    "    @library_only.setter\n",
    "    def library_only(self, value):\n",
    "        if not isinstance(value, bool):\n",
    "            raise ValueError(\"No condition specified. Shuld be True/False\")\n",
    "        else:\n",
    "            self._library_only = value\n",
    "\n",
    "\n",
    "class Exporter:\n",
    "    \n",
    "    def export_to_txt(self, file_path):\n",
    "        with open(file_path, 'w') as f:\n",
    "            for key in self.__dict__:\n",
    "                f.write(\"{}: {}\\n\".format(key, self.__dict__[key]))\n",
    "            f.write(\"\\n\")\n",
    "\n",
    "    def export_to_json(self, file_path):\n",
    "        with open(file_path, 'w') as f:\n",
    "            json.dump(self.__dict__, file_path)\n",
    "    \n",
    "class LibraryJournal(Journal, Exporter):\n",
    "    def __init__(self, *kwargs):\n",
    "        super(LibraryJournal, self).__init__(*kwargs) \n",
    "        RARE_RATE = [9, 10]\n",
    "        WRITE_PATH = './rare_journals/'\n",
    "        if self.rarity in rare_rate:\n",
    "            path = write_path + str(self.journal_id) + '.json'\n",
    "            export_to_json(self, path)\n",
    "            print('Rare journal written to json')\n",
    "\n",
    "class LibraryBook(Book, Exporter):\n",
    "    def __init__(self, *kwargs):\n",
    "        super(LibraryBook, self).__init__(*kwargs) \n",
    "        RARE_RATE = [9, 10]\n",
    "        WRITE_PATH = './rare_books/'\n",
    "        if self.rarity in RARE_RATE:\n",
    "            path = WRITE_PATH + str(self.book_id) + '.json'\n",
    "            export_to_json(self, path)\n",
    "            print('Rare book written to json')"
   ]
  },
  {
   "cell_type": "markdown",
   "metadata": {},
   "source": [
    "#### Пример обычной книги:"
   ]
  },
  {
   "cell_type": "code",
   "execution_count": 250,
   "metadata": {},
   "outputs": [],
   "source": [
    "name = 'Война и Мир'\n",
    "author = 'Толстой Лев Николаевич'\n",
    "genre = 'Роман'\n",
    "pages_num = 1143\n",
    "page_format = 'A5'\n",
    "rarity = 2\n",
    "text = '— Eh bien, mon prince. Gênes et Lucques ne sont plus que des apanages,...'"
   ]
  },
  {
   "cell_type": "code",
   "execution_count": 251,
   "metadata": {},
   "outputs": [],
   "source": [
    "SomeBook = ReadableEntity(name, author, genre, pages_num, page_format, rarity, text)"
   ]
  },
  {
   "cell_type": "code",
   "execution_count": 252,
   "metadata": {},
   "outputs": [
    {
     "data": {
      "text/plain": [
       "35524440"
      ]
     },
     "execution_count": 252,
     "metadata": {},
     "output_type": "execute_result"
    }
   ],
   "source": [
    "SomeBook.pages_square"
   ]
  },
  {
   "cell_type": "markdown",
   "metadata": {},
   "source": [
    "#### Делаем ее библиотечной:"
   ]
  },
  {
   "cell_type": "code",
   "execution_count": 253,
   "metadata": {},
   "outputs": [],
   "source": [
    "book_id = 543\n",
    "shelf_no = 23\n",
    "library_only = False"
   ]
  },
  {
   "cell_type": "code",
   "execution_count": 279,
   "metadata": {},
   "outputs": [
    {
     "name": "stdout",
     "output_type": "stream",
     "text": [
      "Rare book written to json\n"
     ]
    }
   ],
   "source": [
    "LibBook = LibraryBook(123, 432, True, name, author, genre, pages_num, page_format, 9, text)\\"
   ]
  },
  {
   "cell_type": "markdown",
   "metadata": {},
   "source": [
    "#### То же самое с журналами."
   ]
  },
  {
   "cell_type": "markdown",
   "metadata": {},
   "source": [
    "### Задача 1 [Размер объектов] (0 - 0.15 балла)  \n",
    "\n",
    "**Условие:** \n",
    "\n",
    "Написать функцию получения реального объема занимаемой объектом памяти объектом. \n",
    "\n",
    "\n",
    "1) Для int, str, list, tuple, dict **(0.05 балла)**\n",
    "\n",
    "2) Для всех типов **(+0.1 балла)**\n",
    "\n",
    "\n",
    "**Комментарий:**\n",
    "\n",
    "На занятиях не раз говорилось, что `sys.getsizeof` умеет находить размер простых объектов, но если речь идет об объектах, вроде list, то функция вернет не совсем то, что может ожидать разработчик, потому что список хранит указатели на объекты. \n",
    "\n",
    "*Пример:*\n",
    "```\n",
    "sys.getsizeof([]) == 64\n",
    "sys.getsizeof(['aaaaaaa']) == 72\n",
    "```\n",
    "Но\n",
    "```\n",
    "sys.getsizeof('aaaaaaa') == 56\n",
    "```\n"
   ]
  },
  {
   "cell_type": "markdown",
   "metadata": {},
   "source": [
    "### Задача 2 [Многочлены] (0.64 балла)\n",
    "\n",
    "**Условие:**\n",
    "\n",
    "Реализовать класс многочлена. Определить операции:\n",
    "\n",
    "1) *сложения* - **(0.02 балла)** \n",
    "\n",
    "2) *вычитания* - **(0.02 балла)**\n",
    "\n",
    "3) *умножения* - **(0.04 балла)** \n",
    "\n",
    "3a) *быстрого умножения* (алгоритм Карацубы или быстрое преобразование Фурье) - **(+0.25 балла)**\n",
    "\n",
    "4) *деления* - **(0.05 балла)** \n",
    "\n",
    "5) *возведения в степень* - **(0.02 балла)** + | *возведения в степень* через быстрое возведение в степень за log - **(0.04 балла)**\n",
    "\n",
    "6) *представления многочлена в человеческом виде* - **(0.02 балла)** \n",
    "\n",
    "7) *дифференцирования* - **(0.05 балла)** \n",
    "\n",
    "8) *интегрирования* - **(0.05 балла)**\n",
    "\n",
    "9) Вызова многочлена как функции (вычисление значения в точке) - **(0.03 балла)** \n",
    "\n",
    "**Комментарии:**\n",
    "\n",
    "Для комплексных коэффициентов **(0.01 балла)** к каждому пункту.\n",
    "\n",
    "Операции с числами также должны работать."
   ]
  },
  {
   "cell_type": "code",
   "execution_count": 264,
   "metadata": {},
   "outputs": [],
   "source": [
    "class Polynomial(object):\n",
    "    \"\"\"\n",
    "    This class is for handling polynomials.\n",
    "    \n",
    "    Can be initialised multiple ways:\n",
    "        Polynomial(): empty polynomial, just 0\n",
    "        Polynomial([5]): simple number\n",
    "        Polynomial([1, 4]): polynomial of degree 1 with coefficients. Like 1+4x^2\n",
    "        \n",
    "    Complex coefficients are also supported.\n",
    "    \"\"\"\n",
    "    \n",
    "    def __init__(self, coeffs): \n",
    "        \n",
    "        'Determines and checks the coefficients'\n",
    "        \n",
    "        if list(coeffs):\n",
    "            for coef in coeffs:\n",
    "                if isinstance(coef, (int, float, complex)) and not isinstance(coef, bool):\n",
    "                    pass\n",
    "                else:\n",
    "                    raise ValueError('You passed non-numeric type of data')\n",
    "        else:\n",
    "            coeffs = [0]\n",
    "        self.coeffs = coeffs\n",
    "        \n",
    "    @staticmethod\n",
    "    def _format_coeff(coeff):\n",
    "        if isinstance(coeff, complex):\n",
    "            return \"+{0}\".format(coeff)\n",
    "        else:\n",
    "            return str(coeff) if coeff < 0 else \"+{0}\".format(coeff)\n",
    "\n",
    "    @staticmethod\n",
    "    def _format_pow(power):\n",
    "        return 'x^{0}'.format(power) if power != 0 else ''\n",
    "        \n",
    "    def __str__(self): \n",
    "        \n",
    "        'String representation of the polynom'\n",
    "        \n",
    "        expr = []\n",
    "        for coeff, power in zip(self.coeffs, range(0, len(self.coeffs))):\n",
    "            if coeff == 0:\n",
    "                continue\n",
    "            expr.append(self._format_coeff(coeff))\n",
    "            expr.append(self._format_pow(power))\n",
    "        expr[0] = expr[0].lstrip(\"+\")\n",
    "        return ''.join(expr)\n",
    "    \n",
    "    def __repr__(self):\n",
    "        \n",
    "        'Polynom class representanion'\n",
    "        \n",
    "        return \"%s(%s)\" % (type(self).__name__, str(list(self.coeffs)))\n",
    "    \n",
    "    def __getitem__(self, index):\n",
    "        \n",
    "        'Get coefficient by index'\n",
    "        \n",
    "        try:\n",
    "            return self.coeffs[index]\n",
    "        except IndexError:\n",
    "            return 0\n",
    "        \n",
    "    def __setitem__(self, index, value):\n",
    "        \n",
    "        'Set coefficient by index. Supports non-existent cofficient indices'\n",
    "        \n",
    "        try:\n",
    "            self.coeffs[index] = value\n",
    "        except IndexError:\n",
    "            new_coeffs = np.append(self.coeffs, np.zeros(ind - len(self.coeffs) + 1))\n",
    "            new_coeffs[index] = value\n",
    "            self.coeffs = newcoeffs\n",
    "            \n",
    "    def length(self):\n",
    "        \n",
    "        'Actual length of the polynom, degree + 1'\n",
    "        \n",
    "        for index, coeff in enumerate(list(self.coeffs)[::-1]):\n",
    "            if coeff != 0:\n",
    "                break\n",
    "        return len(self.coeffs) - index\n",
    "    \n",
    "    def degree(self):\n",
    "        \n",
    "        'Degree of the polynom'\n",
    "        \n",
    "        return self.length() - 1\n",
    "    \n",
    "    def __add__(self, polyn):\n",
    "        \n",
    "        'Addition operator for polynoms'\n",
    "        \n",
    "        max_len = max(self.length(), polyn.length())\n",
    "        new_coeffs = []\n",
    "        for index in range(max_len):\n",
    "            new_coeffs.append(self[index] + polyn[index])\n",
    "        return Polynomial(new_coeffs)\n",
    "    \n",
    "        __radd__ = __add__\n",
    "    \n",
    "    def __neg__(self):\n",
    "        \n",
    "        '- Polynom'\n",
    "        \n",
    "        return Polynomial([-coef for coef in self.coeffs])\n",
    "    \n",
    "    def __pos__(self):\n",
    "        \n",
    "        '+ Polynom'\n",
    "        return Polynomial(self.coeffs)\n",
    "    \n",
    "    def __sub__(self, polyn):\n",
    "                \n",
    "        'Substraction operator for polynoms'\n",
    "        \n",
    "        return self + (-polyn)\n",
    "    \n",
    "    @staticmethod\n",
    "    def _fast_mult(x, y):\n",
    "        \n",
    "        'Fast multiplication based on Karatsuba algorithm'\n",
    "        \n",
    "        if (isinstance(x, complex)) | (isinstance(y, complex)):\n",
    "            return x * y\n",
    "        \n",
    "        elif x < 10 or y < 10:\n",
    "                return x * y\n",
    "\n",
    "        n = max(len(str(x)), len(str(y))) // 2\n",
    "\n",
    "        cut = pow(10, n)\n",
    "        a, b = x // cut, x % cut\n",
    "        c, d = y // cut, y % cut\n",
    "\n",
    "        k0 = fast_mult(a, c)\n",
    "        k1 = fast_mult((a + b), (c + d))\n",
    "        k2 = fast_mult(b, d)\n",
    "\n",
    "        return k0 * pow(10, 2*n) + (k1-k0-k2) * pow(10, n) + k2\n",
    "\n",
    "    def __mul__(self, polyn):\n",
    "        \n",
    "        'Multiplication of 2 polynoms. Supports passing just a numeric value'\n",
    "        \n",
    "        if isinstance(polyn, (int, float, complex)):\n",
    "            polyn = Polynomial([polyn])\n",
    "        fin_len = self.length() + polyn.length()\n",
    "        new_coeffs = [sum(self._fast_mult(self[j], polyn[i-j]) for j in range(i+1)) for i in range(fin_len-1)]\n",
    "        return Polynomial(new_coeffs)\n",
    "\n",
    "        __rmul__ = __mul__\n",
    "     \n",
    "    def __pow__(self, n):\n",
    "        \n",
    "        'Power function'\n",
    "        \n",
    "        result = Polynomial([1])\n",
    "        for i in range(n):\n",
    "            result *= self\n",
    "        return result\n",
    "    \n",
    "    def diff(self):\n",
    "        \n",
    "        'Differentiation function'\n",
    "        \n",
    "        result = []\n",
    "        for ind, coef in enumerate(self.coeffs):\n",
    "            result.append(ind * coef)\n",
    "        return Polynomial(result[1:])\n",
    "    \n",
    "    def integral(self):\n",
    "        \n",
    "        'Integration function'\n",
    "        \n",
    "        result = [0]\n",
    "        for ind, coef in enumerate(self.coeffs):\n",
    "            result.append(coef / (ind + 1))\n",
    "        return Polynomial(result)\n",
    "    \n",
    "    def fit(self, X):\n",
    "        \n",
    "        'Calculating polynom value in point X'\n",
    "        \n",
    "        if not isinstance(X, (int, float, complex)):\n",
    "            raise ValueError(\"X must be numeric\")\n",
    "        else:\n",
    "            result = 0\n",
    "            for ind, coef in enumerate(self.coeffs):\n",
    "                result += coef * X**ind\n",
    "            return result"
   ]
  },
  {
   "cell_type": "markdown",
   "metadata": {},
   "source": [
    "### Примеры использования"
   ]
  },
  {
   "cell_type": "code",
   "execution_count": 265,
   "metadata": {},
   "outputs": [],
   "source": [
    "X = Polynomial([1, 3, 7])\n",
    "Y = Polynomial([2, 5, 3, 5])"
   ]
  },
  {
   "cell_type": "code",
   "execution_count": 266,
   "metadata": {},
   "outputs": [
    {
     "name": "stdout",
     "output_type": "stream",
     "text": [
      "1+3x^1+7x^2\n"
     ]
    }
   ],
   "source": [
    "print(X)"
   ]
  },
  {
   "cell_type": "code",
   "execution_count": 267,
   "metadata": {},
   "outputs": [
    {
     "data": {
      "text/plain": [
       "Polynomial([3, 8, 10, 5])"
      ]
     },
     "execution_count": 267,
     "metadata": {},
     "output_type": "execute_result"
    }
   ],
   "source": [
    "X + Y"
   ]
  },
  {
   "cell_type": "code",
   "execution_count": 268,
   "metadata": {},
   "outputs": [
    {
     "data": {
      "text/plain": [
       "Polynomial([-1, -2, 4, -5])"
      ]
     },
     "execution_count": 268,
     "metadata": {},
     "output_type": "execute_result"
    }
   ],
   "source": [
    "X - Y"
   ]
  },
  {
   "cell_type": "code",
   "execution_count": 269,
   "metadata": {},
   "outputs": [
    {
     "data": {
      "text/plain": [
       "Polynomial([2, 11, 32, 49, 36, 35])"
      ]
     },
     "execution_count": 269,
     "metadata": {},
     "output_type": "execute_result"
    }
   ],
   "source": [
    "X * Y"
   ]
  },
  {
   "cell_type": "code",
   "execution_count": 270,
   "metadata": {},
   "outputs": [
    {
     "data": {
      "text/plain": [
       "Polynomial([1, 6, 23, 42, 49])"
      ]
     },
     "execution_count": 270,
     "metadata": {},
     "output_type": "execute_result"
    }
   ],
   "source": [
    "X**2"
   ]
  },
  {
   "cell_type": "code",
   "execution_count": 271,
   "metadata": {},
   "outputs": [
    {
     "data": {
      "text/plain": [
       "Polynomial([3, 14])"
      ]
     },
     "execution_count": 271,
     "metadata": {},
     "output_type": "execute_result"
    }
   ],
   "source": [
    "X.diff()"
   ]
  },
  {
   "cell_type": "code",
   "execution_count": 272,
   "metadata": {},
   "outputs": [
    {
     "data": {
      "text/plain": [
       "Polynomial([0, 1.0, 1.5, 2.3333333333333335])"
      ]
     },
     "execution_count": 272,
     "metadata": {},
     "output_type": "execute_result"
    }
   ],
   "source": [
    "X.integral()"
   ]
  },
  {
   "cell_type": "code",
   "execution_count": 273,
   "metadata": {},
   "outputs": [
    {
     "data": {
      "text/plain": [
       "731"
      ]
     },
     "execution_count": 273,
     "metadata": {},
     "output_type": "execute_result"
    }
   ],
   "source": [
    "X.fit(10)"
   ]
  },
  {
   "cell_type": "markdown",
   "metadata": {},
   "source": [
    "### Задача 3 [Аналог range] (0.05 балла)\n",
    "\n",
    "**Условие:**\n",
    "\n",
    "Реализуйте итератор с поведением, аналогичным range."
   ]
  },
  {
   "cell_type": "code",
   "execution_count": 274,
   "metadata": {},
   "outputs": [],
   "source": [
    "class my_range:\n",
    "\n",
    "    \"\"\"Iterator that acts exactly like range() function\"\"\"\n",
    "    \n",
    "\n",
    "    def __init__(self, *args, **kwargs):\n",
    "        \n",
    "        if len(args) == 1:\n",
    "            self.start = 0\n",
    "            self.stop = args[0]\n",
    "            self.step = 1\n",
    "        elif len(args) == 2:\n",
    "            self.start = args[0]\n",
    "            self.stop = args[1]\n",
    "            self.step = 1\n",
    "        elif len(args) == 3:\n",
    "            self.start = args[0]\n",
    "            self.stop = args[1]\n",
    "            self.step = args[1]\n",
    "        else:\n",
    "            raise TypeError('my_range expected from 1 to 3 arguments, got {}'.format(len(args)))\n",
    "            \n",
    "        if self.step == 0:\n",
    "            raise ValueError('Step can not be 0')\n",
    "        else:\n",
    "            self.current = self.start - self.step\n",
    "\n",
    "    def __iter__(self):\n",
    "        return self\n",
    "\n",
    "    def __next__(self):\n",
    "        self.next = self.current + self.step\n",
    "        if self.step > 0:\n",
    "            if self.next <= self.stop:\n",
    "                self.current = self.next\n",
    "                return self.next\n",
    "            else:\n",
    "                 raise StopIteration\n",
    "        else:\n",
    "            if self.next >= self.stop:\n",
    "                self.current = self.next\n",
    "                return self.next\n",
    "            else:\n",
    "                 raise StopIteration"
   ]
  },
  {
   "cell_type": "code",
   "execution_count": 276,
   "metadata": {},
   "outputs": [
    {
     "name": "stdout",
     "output_type": "stream",
     "text": [
      "0\n",
      "1\n",
      "2\n",
      "3\n",
      "4\n"
     ]
    }
   ],
   "source": [
    "for i in range(5):\n",
    "    print (i)"
   ]
  },
  {
   "cell_type": "code",
   "execution_count": 277,
   "metadata": {},
   "outputs": [
    {
     "name": "stdout",
     "output_type": "stream",
     "text": [
      "5\n",
      "6\n",
      "7\n"
     ]
    }
   ],
   "source": [
    "for i in range(5, 8):\n",
    "    print (i)"
   ]
  },
  {
   "cell_type": "code",
   "execution_count": 278,
   "metadata": {},
   "outputs": [
    {
     "name": "stdout",
     "output_type": "stream",
     "text": [
      "5\n",
      "7\n"
     ]
    }
   ],
   "source": [
    "for i in range(5, 8, 2):\n",
    "    print (i)"
   ]
  },
  {
   "cell_type": "markdown",
   "metadata": {},
   "source": [
    "### Задача 4 [Primary Key] (0.05 балла)\n",
    "\n",
    "**Условие:**\n",
    "\n",
    "С помощью механизма дескрипторов реализуйте Primary Key - свойства первичного ключа из PostgreSQL."
   ]
  },
  {
   "cell_type": "markdown",
   "metadata": {},
   "source": [
    "### Задача 5 [PositiveSmallIntegerField] (0.03 балла)\n",
    "\n",
    "**Условие:**\n",
    "\n",
    "С помощью механизма дескрипторов реализуйте тип данных PositiveSmallIntegerField - поле, принимающее значения от 0 до 32767."
   ]
  },
  {
   "cell_type": "markdown",
   "metadata": {},
   "source": [
    "### Задача 6 [Timer] (0.02 балла)\n",
    "\n",
    "**Условие:**\n",
    "\n",
    "Реализовать контекстный менеджер, который выводит время, проведенное в нём."
   ]
  },
  {
   "cell_type": "code",
   "execution_count": 7,
   "metadata": {},
   "outputs": [],
   "source": [
    "from time import time\n",
    "import numpy as np"
   ]
  },
  {
   "cell_type": "code",
   "execution_count": 32,
   "metadata": {},
   "outputs": [],
   "source": [
    "class Timer(object):\n",
    "    def __enter__(self):\n",
    "        self.start = time()\n",
    "    def __exit__(self, type, value, traceback):\n",
    "        self.end = time()\n",
    "        print('time spent: {}'.format(self.end - self.start))"
   ]
  },
  {
   "cell_type": "code",
   "execution_count": 33,
   "metadata": {},
   "outputs": [
    {
     "name": "stdout",
     "output_type": "stream",
     "text": [
      "time spent: 2.193450927734375e-05\n"
     ]
    }
   ],
   "source": [
    "with Timer():\n",
    "    s = np.random.randint(0, 5000)"
   ]
  },
  {
   "cell_type": "code",
   "execution_count": 34,
   "metadata": {},
   "outputs": [
    {
     "name": "stdout",
     "output_type": "stream",
     "text": [
      "time spent: 9.5367431640625e-07\n"
     ]
    }
   ],
   "source": [
    "with Timer():\n",
    "    pass"
   ]
  }
 ],
 "metadata": {
  "kernelspec": {
   "display_name": "Python 3",
   "language": "python",
   "name": "python3"
  },
  "language_info": {
   "codemirror_mode": {
    "name": "ipython",
    "version": 3
   },
   "file_extension": ".py",
   "mimetype": "text/x-python",
   "name": "python",
   "nbconvert_exporter": "python",
   "pygments_lexer": "ipython3",
   "version": "3.6.5"
  }
 },
 "nbformat": 4,
 "nbformat_minor": 2
}
